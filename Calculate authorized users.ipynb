{
 "cells": [
  {
   "cell_type": "markdown",
   "metadata": {},
   "source": [
    "## Notebook to calculate monthly authorized users"
   ]
  },
  {
   "cell_type": "markdown",
   "metadata": {},
   "source": [
    "This notebook calculates month authorized users based on history of /v1 and /v2 messages retrieved through the /logs API. The count is for all workspaces and/or skills for one service instance of Assistant. To use, we need the `APIKEY` and `assistant_url` values from the settings of one of the Assistants or Skills. We're only using the URL up to the instance ID, so the URLs and API keys are the same. You can set them in the next cell, or set these values to `''` and be prompted when the notebook runs. You can also get a flattened log output in CSV format by specifying `EXPORT_FILE_PATH` in the cell below or when prompted."
   ]
  },
  {
   "cell_type": "code",
   "execution_count": null,
   "metadata": {},
   "outputs": [],
   "source": [
    "APIKEY = 'uPmRXh***********************AZJ6Hu'\n",
    "assistant_url = 'https://api.us-east.assistant.watson.cloud.ibm.com/instances/96a44bf2-df75-4683-852d-1187573b8948'\n",
    "EXPORT_FILE_PATH = 'authorized_user_logs.csv'"
   ]
  },
  {
   "cell_type": "code",
   "execution_count": 10,
   "metadata": {},
   "outputs": [],
   "source": [
    "import string\n",
    "import re\n",
    "import os\n",
    "import requests\n",
    "import datetime\n",
    "import numpy as np\n",
    "import matplotlib.pyplot as plt\n",
    "import pandas as pd"
   ]
  },
  {
   "cell_type": "code",
   "execution_count": 11,
   "metadata": {},
   "outputs": [],
   "source": [
    "if APIKEY is None or len(APIKEY) == 0:\n",
    "    APIKEY = input(\"Enter Assistant API key\")\n",
    "if assistant_url is None or len(assistant_url) == 0:\n",
    "    assistant_url = input(\"Enter assistant or skill /v1 or /v2 API URL\")\n",
    "if EXPORT_FILE_PATH is None or len(EXPORT_FILE_PATH) == 0:\n",
    "    EXPORT_FILE_PATH = input(\"Enter path of the file for CSV output.\")\n",
    "api_regex = r'https:\\/\\/api..*.com\\/instances\\/([a-zA-Z0-9]|-)+'\n",
    "API_URL = re.search(api_regex, assistant_url).group()\n",
    "\n",
    "http_headers = {'Content-Type': 'application/json',\n",
    "                'Accept': 'application/json'}\n",
    "auth = ('APIKEY', APIKEY)\n",
    "API_VERSION = '2020-04-01'\n",
    "LOGS_API = '/v1/workspaces/%s/logs?version=%s'\n",
    "WORKSPACES_API = '/v1/workspaces?version=%s'\n"
   ]
  },
  {
   "cell_type": "code",
   "execution_count": 12,
   "metadata": {},
   "outputs": [],
   "source": [
    "\"\"\"\n",
    "This routine returns all the logs in JSON (/v1 and /v2 message calls) for all work spaces for a given\n",
    "service instance of Watson Assistant. \n",
    "\"\"\"\n",
    "\n",
    "def get_all_logs():\n",
    "    # Get all the workspaces\n",
    "    workspaces_url = API_URL + WORKSPACES_API % API_VERSION\n",
    "    response = requests.get(workspaces_url, auth=auth, headers=http_headers)\n",
    "    if response.status_code == 200:\n",
    "        results = response.json()\n",
    "    else:\n",
    "        raise Exception(response.content)\n",
    "\n",
    "    # Now retrieve the logs for each of the workspaces\n",
    "    all_logs = []\n",
    "    count = 1\n",
    "    workspaces = results['workspaces']\n",
    "    for workspace in workspaces:\n",
    "        done = False\n",
    "        logs_url = API_URL + LOGS_API % (workspace['workspace_id'], API_VERSION)\n",
    "        # Continue retrieving logs until there are no more pages of logs\n",
    "        while not done:\n",
    "            response = requests.get(logs_url, auth=auth, headers=http_headers)\n",
    "            if response.status_code == 200:\n",
    "                results = response.json()\n",
    "                all_logs += results['logs']\n",
    "                print('Retrieved %s log entries from workspace \\'%s\\'.' % (len(results['logs']), workspace['workspace_id']))\n",
    "                next_page = results.get('pagination')\n",
    "                if len(next_page) > 0:\n",
    "                    logs_url = API_URL + next_page['next_url']\n",
    "                else:\n",
    "                    done = True\n",
    "            else:\n",
    "                raise Exception(response.content)\n",
    "        print('Finished %s of %s workspaces.' % (count, len(workspaces)))\n",
    "        count += 1\n",
    "    return all_logs"
   ]
  },
  {
   "cell_type": "code",
   "execution_count": 13,
   "metadata": {},
   "outputs": [],
   "source": [
    "\"\"\"\n",
    "This routine processes the /logs JSON to generate a flatter data structure without PI for further processing:\n",
    " \n",
    "    'user_detail':\n",
    "        - request_timestamp - time when the /message call was made\n",
    "        - authorized_user - string used to determine who the user is\n",
    "        - type - how the 'authorized_user' value was determined; by field 'user_id', 'session_id' or 'conversation_id'\n",
    "        - dialog_turn_counter' - what turn of the conversation this /message call represents\n",
    "        - text_length - length of the input utterance; 0 if none\n",
    "        - workspace_id - workspace of this /message request\n",
    "\n",
    "Based on this detail, this routine also calculates unique users by month and lists of the ids of those users by\n",
    "month.\n",
    "\n",
    "    'unique_authorized_users_by_month': \n",
    "        {'month1': {'Fred', 'Barney', 'Wilma'', Betty', 'Bam Bam'},\n",
    "        'month2': {'Rocky', 'Bullwinkle', 'Natasha'},\n",
    "        'month3': {'Gilligan', 'Skipper', 'Professor', 'Ginger, 'Maryann'}\n",
    "        }\n",
    "        \n",
    "    'authorized_user_counts_by_month': \n",
    "        {'user_id': \n",
    "            {'month1': total, 'month2': total, 'month3': total}, \n",
    "        'session_id': \n",
    "            {'month2': total, 'month2': total, 'month3': total}, \n",
    "        'conversation_id': \n",
    "            {'month3': total, 'month2': total, 'month3': total}}\n",
    "\"\"\"\n",
    "\n",
    "def calculate_authorized_users(logs):\n",
    "\n",
    "    def log_sort_function(i):\n",
    "        return str(i['request_timestamp'])\n",
    "\n",
    "    # First, sort the logs so the graph plotting is easier\n",
    "    logs.sort(key=log_sort_function)\n",
    "\n",
    "    user_detail = []\n",
    "    unique_authorized_users_by_month = {}\n",
    "    authorized_user_counts_by_month = {'user_id': {}, 'session_id': {}, 'conversation_id': {}}\n",
    "\n",
    "    for entry in logs:\n",
    "        # Get the authorized user id based on what fields in the /message payload were set. In priority\n",
    "        # order, user_id, session_id, conversation_id.\n",
    "        user_id = entry['request'].get('user_id')\n",
    "        if user_id is not None:\n",
    "            # user_id is set so record this value as the authorized user. This is the same for\n",
    "            # both /v1/message and /v2/message\n",
    "            type = 'user_id'\n",
    "        else:\n",
    "            user_id = entry['response']['context']['system'].get('session_id')\n",
    "            if user_id is not None:\n",
    "                # if we can't find user_id, the look for the substitute. If we fine session_id\n",
    "                # it means this is a /v2/message call, use it.\n",
    "                type = 'session_id'\n",
    "            else:\n",
    "                # otherwise, user conversation_id. Both /v1/message and /v2/message\n",
    "                user_id = entry['response']['context']['conversation_id']\n",
    "                type = 'conversation_id'\n",
    "\n",
    "        # Get the utterance text if there is input. We're getting this solely to get its length. For\n",
    "        # privacy reasons, we are saving on the length to indicate if there was input.\n",
    "        utterance_text = ''\n",
    "        input = entry['request'].get('input')\n",
    "        if input is not None:\n",
    "            input_text = input.get('text')\n",
    "            if input_text is not None:\n",
    "                utterance_text = input_text\n",
    "\n",
    "        # Write the flatter log record. This is what will be written as output to a CSV file for\n",
    "        # futher analysis\n",
    "        new_entry = {'request_timestamp': datetime.datetime.strptime(entry['request_timestamp'], '%Y-%m-%dT%H:%M:%S.%fZ'),\n",
    "                            'authorized_user': user_id,\n",
    "                            'type': type,\n",
    "                            'dialog_turn': int(entry['response']['context']['system']['dialog_turn_counter']),\n",
    "                            'text_length': len(utterance_text),\n",
    "                            'workspace_id': entry['workspace_id']}\n",
    "        user_detail.append(new_entry)\n",
    "\n",
    "        # Now, add this as an authorized user if there is text input or we are past the first turn of the dialog.\n",
    "        # Conversely, do not add this as an authorized user if there is no text input and we are on the first\n",
    "        # turn of the dialog.\n",
    "        if new_entry['dialog_turn'] > 1 or new_entry['text_length'] > 0:\n",
    "            month = new_entry['request_timestamp'].strftime(\"%b\")\n",
    "            if month not in unique_authorized_users_by_month.keys():\n",
    "                unique_authorized_users_by_month[month] = set()\n",
    "                authorized_user_counts_by_month['user_id'][month] = 0\n",
    "                authorized_user_counts_by_month['conversation_id'][month] = 0\n",
    "                authorized_user_counts_by_month['session_id'][month] = 0\n",
    "            if new_entry['authorized_user'] not in unique_authorized_users_by_month[month]:\n",
    "                unique_authorized_users_by_month[month].add(new_entry['authorized_user'])\n",
    "                authorized_user_counts_by_month[new_entry['type']][month] += 1\n",
    "\n",
    "    return user_detail, authorized_user_counts_by_month, unique_authorized_users_by_month"
   ]
  },
  {
   "cell_type": "code",
   "execution_count": 14,
   "metadata": {
    "require": [
     "base/js/events",
     "datatables.net",
     "d3",
     "chartjs",
     "dt-config",
     "dt-components",
     "dt-graph-objects",
     "dt-toolbar",
     "dt-tooltips",
     "jupyter-datatables"
    ]
   },
   "outputs": [
    {
     "name": "stdout",
     "output_type": "stream",
     "text": [
      "Retrieved 7 log entries from workspace 'bbd0fd16-5b74-45eb-92b4-8070ff1e0d1a'.\n",
      "Finished 1 of 2 workspaces.\n",
      "Retrieved 100 log entries from workspace '9db4b84c-e573-428a-b01c-52193e9db275'.\n",
      "Retrieved 100 log entries from workspace '9db4b84c-e573-428a-b01c-52193e9db275'.\n",
      "Retrieved 100 log entries from workspace '9db4b84c-e573-428a-b01c-52193e9db275'.\n",
      "Retrieved 46 log entries from workspace '9db4b84c-e573-428a-b01c-52193e9db275'.\n",
      "Finished 2 of 2 workspaces.\n"
     ]
    }
   ],
   "source": [
    "all_logs = get_all_logs()\n",
    "user_detail, authorized_user_counts_by_month, unique_authorized_users_by_month = calculate_authorized_users(all_logs)"
   ]
  },
  {
   "cell_type": "code",
   "execution_count": 26,
   "metadata": {},
   "outputs": [
    {
     "data": {
      "image/png": "[encoded data removed]",
      "text/plain": [
       "<Figure size 720x576 with 1 Axes>"
      ]
     },
     "metadata": {
      "needs_background": "light"
     },
     "output_type": "display_data"
    },
    {
     "data": {
      "text/html": [
       "<style  type=\"text/css\" >\n",
       "#T_9b9cd_row0_col0,#T_9b9cd_row0_col1,#T_9b9cd_row0_col2,#T_9b9cd_row0_col3,#T_9b9cd_row1_col0,#T_9b9cd_row1_col1,#T_9b9cd_row1_col2,#T_9b9cd_row1_col3,#T_9b9cd_row2_col0,#T_9b9cd_row2_col1,#T_9b9cd_row2_col2,#T_9b9cd_row2_col3{\n",
       "            font-size:  12pt;\n",
       "        }</style><table id=\"T_9b9cd_\" ><thead>    <tr>        <th class=\"blank level0\" ></th>        <th class=\"col_heading level0 col0\" >user_id</th>        <th class=\"col_heading level0 col1\" >session_id</th>        <th class=\"col_heading level0 col2\" >conversation_id</th>        <th class=\"col_heading level0 col3\" >Total</th>    </tr></thead><tbody>\n",
       "                <tr>\n",
       "                        <th id=\"T_9b9cd_level0_row0\" class=\"row_heading level0 row0\" >Jan</th>\n",
       "                        <td id=\"T_9b9cd_row0_col0\" class=\"data row0 col0\" >0</td>\n",
       "                        <td id=\"T_9b9cd_row0_col1\" class=\"data row0 col1\" >1</td>\n",
       "                        <td id=\"T_9b9cd_row0_col2\" class=\"data row0 col2\" >2</td>\n",
       "                        <td id=\"T_9b9cd_row0_col3\" class=\"data row0 col3\" >3</td>\n",
       "            </tr>\n",
       "            <tr>\n",
       "                        <th id=\"T_9b9cd_level0_row1\" class=\"row_heading level0 row1\" >Feb</th>\n",
       "                        <td id=\"T_9b9cd_row1_col0\" class=\"data row1 col0\" >1</td>\n",
       "                        <td id=\"T_9b9cd_row1_col1\" class=\"data row1 col1\" >5</td>\n",
       "                        <td id=\"T_9b9cd_row1_col2\" class=\"data row1 col2\" >86</td>\n",
       "                        <td id=\"T_9b9cd_row1_col3\" class=\"data row1 col3\" >92</td>\n",
       "            </tr>\n",
       "            <tr>\n",
       "                        <th id=\"T_9b9cd_level0_row2\" class=\"row_heading level0 row2\" >Total</th>\n",
       "                        <td id=\"T_9b9cd_row2_col0\" class=\"data row2 col0\" >1</td>\n",
       "                        <td id=\"T_9b9cd_row2_col1\" class=\"data row2 col1\" >6</td>\n",
       "                        <td id=\"T_9b9cd_row2_col2\" class=\"data row2 col2\" >88</td>\n",
       "                        <td id=\"T_9b9cd_row2_col3\" class=\"data row2 col3\" >95</td>\n",
       "            </tr>\n",
       "    </tbody></table>"
      ],
      "text/plain": [
       "<pandas.io.formats.style.Styler at 0x7ff093e11a30>"
      ]
     },
     "execution_count": 26,
     "metadata": {},
     "output_type": "execute_result"
    }
   ],
   "source": [
    "user_count_df = pd.DataFrame(authorized_user_counts_by_month)\n",
    "user_count_df.plot.bar(stacked=True, figsize=(10, 8), title='Authorized Users by Month', fontsize=15) \n",
    "# plt.title('Authorized Users by Month')\n",
    "plt.show()\n",
    "\n",
    "user_count_df.loc[\"Total\"] = user_count_df.sum(axis=0)\n",
    "user_count_df.loc[:, \"Total\"] = user_count_df.sum(axis=1)\n",
    "user_count_df = user_count_df.style.set_properties(**{'font-size': '12pt',})\n",
    "user_count_df"
   ]
  },
  {
   "cell_type": "code",
   "execution_count": 27,
   "metadata": {},
   "outputs": [],
   "source": [
    "detail_df = pd.DataFrame(user_detail)\n",
    "if EXPORT_FILE_PATH is not None and len(EXPORT_FILE_PATH) > 0:\n",
    "    detail_df.to_csv(EXPORT_FILE_PATH)"
   ]
  },
  {
   "cell_type": "code",
   "execution_count": 28,
   "metadata": {},
   "outputs": [
    {
     "data": {
      "text/html": [
       "<div>\n",
       "<style scoped>\n",
       "    .dataframe tbody tr th:only-of-type {\n",
       "        vertical-align: middle;\n",
       "    }\n",
       "\n",
       "    .dataframe tbody tr th {\n",
       "        vertical-align: top;\n",
       "    }\n",
       "\n",
       "    .dataframe thead th {\n",
       "        text-align: right;\n",
       "    }\n",
       "</style>\n",
       "<table border=\"1\" class=\"dataframe\">\n",
       "  <thead>\n",
       "    <tr style=\"text-align: right;\">\n",
       "      <th></th>\n",
       "      <th>request_timestamp</th>\n",
       "      <th>authorized_user</th>\n",
       "      <th>type</th>\n",
       "      <th>dialog_turn</th>\n",
       "      <th>text_length</th>\n",
       "      <th>workspace_id</th>\n",
       "    </tr>\n",
       "  </thead>\n",
       "  <tbody>\n",
       "    <tr>\n",
       "      <th>0</th>\n",
       "      <td>2021-01-26 15:00:31.022</td>\n",
       "      <td>43ab9843-4eb3-4f77-b100-86545249f95b</td>\n",
       "      <td>session_id</td>\n",
       "      <td>1</td>\n",
       "      <td>0</td>\n",
       "      <td>bbd0fd16-5b74-45eb-92b4-8070ff1e0d1a</td>\n",
       "    </tr>\n",
       "    <tr>\n",
       "      <th>1</th>\n",
       "      <td>2021-01-26 15:00:37.545</td>\n",
       "      <td>43ab9843-4eb3-4f77-b100-86545249f95b</td>\n",
       "      <td>session_id</td>\n",
       "      <td>2</td>\n",
       "      <td>2</td>\n",
       "      <td>bbd0fd16-5b74-45eb-92b4-8070ff1e0d1a</td>\n",
       "    </tr>\n",
       "    <tr>\n",
       "      <th>2</th>\n",
       "      <td>2021-01-26 15:00:51.558</td>\n",
       "      <td>e89e9083-0b30-4cf5-9d8c-069987186bbb</td>\n",
       "      <td>session_id</td>\n",
       "      <td>1</td>\n",
       "      <td>0</td>\n",
       "      <td>bbd0fd16-5b74-45eb-92b4-8070ff1e0d1a</td>\n",
       "    </tr>\n",
       "    <tr>\n",
       "      <th>3</th>\n",
       "      <td>2021-01-30 01:54:49.735</td>\n",
       "      <td>7ead83ea-72d4-4090-803b-e84eb37e227f</td>\n",
       "      <td>conversation_id</td>\n",
       "      <td>1</td>\n",
       "      <td>0</td>\n",
       "      <td>9db4b84c-e573-428a-b01c-52193e9db275</td>\n",
       "    </tr>\n",
       "    <tr>\n",
       "      <th>4</th>\n",
       "      <td>2021-01-31 03:46:12.734</td>\n",
       "      <td>c3102879-6805-43b3-b43f-d116ecf26bd7</td>\n",
       "      <td>conversation_id</td>\n",
       "      <td>1</td>\n",
       "      <td>0</td>\n",
       "      <td>9db4b84c-e573-428a-b01c-52193e9db275</td>\n",
       "    </tr>\n",
       "    <tr>\n",
       "      <th>...</th>\n",
       "      <td>...</td>\n",
       "      <td>...</td>\n",
       "      <td>...</td>\n",
       "      <td>...</td>\n",
       "      <td>...</td>\n",
       "      <td>...</td>\n",
       "    </tr>\n",
       "    <tr>\n",
       "      <th>348</th>\n",
       "      <td>2021-02-19 16:48:21.648</td>\n",
       "      <td>9f406033-1a18-44d9-9192-f51d7fec541e</td>\n",
       "      <td>session_id</td>\n",
       "      <td>1</td>\n",
       "      <td>0</td>\n",
       "      <td>bbd0fd16-5b74-45eb-92b4-8070ff1e0d1a</td>\n",
       "    </tr>\n",
       "    <tr>\n",
       "      <th>349</th>\n",
       "      <td>2021-02-19 16:48:29.644</td>\n",
       "      <td>3484ad12-33c7-4c25-805d-355ab8b14a6b</td>\n",
       "      <td>session_id</td>\n",
       "      <td>1</td>\n",
       "      <td>0</td>\n",
       "      <td>bbd0fd16-5b74-45eb-92b4-8070ff1e0d1a</td>\n",
       "    </tr>\n",
       "    <tr>\n",
       "      <th>350</th>\n",
       "      <td>2021-02-19 16:48:36.699</td>\n",
       "      <td>3484ad12-33c7-4c25-805d-355ab8b14a6b</td>\n",
       "      <td>session_id</td>\n",
       "      <td>2</td>\n",
       "      <td>21</td>\n",
       "      <td>bbd0fd16-5b74-45eb-92b4-8070ff1e0d1a</td>\n",
       "    </tr>\n",
       "    <tr>\n",
       "      <th>351</th>\n",
       "      <td>2021-02-19 19:58:02.818</td>\n",
       "      <td>1159e766-5531-4cab-a104-f85f50782dc3</td>\n",
       "      <td>session_id</td>\n",
       "      <td>1</td>\n",
       "      <td>12</td>\n",
       "      <td>bbd0fd16-5b74-45eb-92b4-8070ff1e0d1a</td>\n",
       "    </tr>\n",
       "    <tr>\n",
       "      <th>352</th>\n",
       "      <td>2021-02-19 20:00:33.839</td>\n",
       "      <td>ccec9ef1-e1c3-4996-98e9-f08bde4d48f0</td>\n",
       "      <td>session_id</td>\n",
       "      <td>1</td>\n",
       "      <td>14</td>\n",
       "      <td>9db4b84c-e573-428a-b01c-52193e9db275</td>\n",
       "    </tr>\n",
       "  </tbody>\n",
       "</table>\n",
       "<p>353 rows × 6 columns</p>\n",
       "</div>"
      ],
      "text/plain": [
       "          request_timestamp                       authorized_user  \\\n",
       "0   2021-01-26 15:00:31.022  43ab9843-4eb3-4f77-b100-86545249f95b   \n",
       "1   2021-01-26 15:00:37.545  43ab9843-4eb3-4f77-b100-86545249f95b   \n",
       "2   2021-01-26 15:00:51.558  e89e9083-0b30-4cf5-9d8c-069987186bbb   \n",
       "3   2021-01-30 01:54:49.735  7ead83ea-72d4-4090-803b-e84eb37e227f   \n",
       "4   2021-01-31 03:46:12.734  c3102879-6805-43b3-b43f-d116ecf26bd7   \n",
       "..                      ...                                   ...   \n",
       "348 2021-02-19 16:48:21.648  9f406033-1a18-44d9-9192-f51d7fec541e   \n",
       "349 2021-02-19 16:48:29.644  3484ad12-33c7-4c25-805d-355ab8b14a6b   \n",
       "350 2021-02-19 16:48:36.699  3484ad12-33c7-4c25-805d-355ab8b14a6b   \n",
       "351 2021-02-19 19:58:02.818  1159e766-5531-4cab-a104-f85f50782dc3   \n",
       "352 2021-02-19 20:00:33.839  ccec9ef1-e1c3-4996-98e9-f08bde4d48f0   \n",
       "\n",
       "                type  dialog_turn  text_length  \\\n",
       "0         session_id            1            0   \n",
       "1         session_id            2            2   \n",
       "2         session_id            1            0   \n",
       "3    conversation_id            1            0   \n",
       "4    conversation_id            1            0   \n",
       "..               ...          ...          ...   \n",
       "348       session_id            1            0   \n",
       "349       session_id            1            0   \n",
       "350       session_id            2           21   \n",
       "351       session_id            1           12   \n",
       "352       session_id            1           14   \n",
       "\n",
       "                             workspace_id  \n",
       "0    bbd0fd16-5b74-45eb-92b4-8070ff1e0d1a  \n",
       "1    bbd0fd16-5b74-45eb-92b4-8070ff1e0d1a  \n",
       "2    bbd0fd16-5b74-45eb-92b4-8070ff1e0d1a  \n",
       "3    9db4b84c-e573-428a-b01c-52193e9db275  \n",
       "4    9db4b84c-e573-428a-b01c-52193e9db275  \n",
       "..                                    ...  \n",
       "348  bbd0fd16-5b74-45eb-92b4-8070ff1e0d1a  \n",
       "349  bbd0fd16-5b74-45eb-92b4-8070ff1e0d1a  \n",
       "350  bbd0fd16-5b74-45eb-92b4-8070ff1e0d1a  \n",
       "351  bbd0fd16-5b74-45eb-92b4-8070ff1e0d1a  \n",
       "352  9db4b84c-e573-428a-b01c-52193e9db275  \n",
       "\n",
       "[353 rows x 6 columns]"
      ]
     },
     "execution_count": 28,
     "metadata": {},
     "output_type": "execute_result"
    }
   ],
   "source": [
    "detail_df"
   ]
  },
  {
   "cell_type": "code",
   "execution_count": null,
   "metadata": {},
   "outputs": [],
   "source": []
  }
 ],
 "metadata": {
  "kernelspec": {
   "display_name": "Python 3",
   "language": "python",
   "name": "python3"
  },
  "language_info": {
   "codemirror_mode": {
    "name": "ipython",
    "version": 3
   },
   "file_extension": ".py",
   "mimetype": "text/x-python",
   "name": "python",
   "nbconvert_exporter": "python",
   "pygments_lexer": "ipython3",
   "version": "3.8.3"
  },
  "require": {
   "paths": {
    "buttons.colvis": "https://cdn.datatables.net/buttons/1.5.6/js/buttons.colVis.min",
    "buttons.flash": "https://cdn.datatables.net/buttons/1.5.6/js/buttons.flash.min",
    "buttons.html5": "https://cdn.datatables.net/buttons/1.5.6/js/buttons.html5.min",
    "buttons.print": "https://cdn.datatables.net/buttons/1.5.6/js/buttons.print.min",
    "chartjs": "https://cdnjs.cloudflare.com/ajax/libs/Chart.js/2.8.0/Chart",
    "d3": "https://d3js.org/d3.v5.min",
    "d3-array": "https://d3js.org/d3-array.v2.min",
    "datatables.net": "https://cdn.datatables.net/1.10.18/js/jquery.dataTables",
    "datatables.net-buttons": "https://cdn.datatables.net/buttons/1.5.6/js/dataTables.buttons.min",
    "datatables.responsive": "https://cdn.datatables.net/responsive/2.2.2/js/dataTables.responsive.min",
    "datatables.scroller": "https://cdn.datatables.net/scroller/2.0.0/js/dataTables.scroller.min",
    "datatables.select": "https://cdn.datatables.net/select/1.3.0/js/dataTables.select.min",
    "jszip": "https://cdnjs.cloudflare.com/ajax/libs/jszip/2.5.0/jszip.min",
    "moment": "https://cdnjs.cloudflare.com/ajax/libs/moment.js/2.8.0/moment",
    "pdfmake": "https://cdnjs.cloudflare.com/ajax/libs/pdfmake/0.1.36/pdfmake.min",
    "vfsfonts": "https://cdnjs.cloudflare.com/ajax/libs/pdfmake/0.1.36/vfs_fonts"
   },
   "shim": {
    "buttons.colvis": {
     "deps": [
      "jszip",
      "datatables.net-buttons"
     ]
    },
    "buttons.flash": {
     "deps": [
      "jszip",
      "datatables.net-buttons"
     ]
    },
    "buttons.html5": {
     "deps": [
      "jszip",
      "datatables.net-buttons"
     ]
    },
    "buttons.print": {
     "deps": [
      "jszip",
      "datatables.net-buttons"
     ]
    },
    "chartjs": {
     "deps": [
      "moment"
     ]
    },
    "datatables.net": {
     "exports": "$.fn.dataTable"
    },
    "datatables.net-buttons": {
     "deps": [
      "datatables.net"
     ]
    },
    "pdfmake": {
     "deps": [
      "datatables.net"
     ]
    },
    "vfsfonts": {
     "deps": [
      "datatables.net"
     ]
    }
   }
  }
 },
 "nbformat": 4,
 "nbformat_minor": 4
}
