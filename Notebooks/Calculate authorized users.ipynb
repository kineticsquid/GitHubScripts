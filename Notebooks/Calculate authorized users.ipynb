{
 "cells": [
  {
   "cell_type": "markdown",
   "metadata": {},
   "source": [
    "## Notebook to calculate monthly authorized users - Copy"
   ]
  },
  {
   "cell_type": "markdown",
   "metadata": {},
   "source": [
    "This notebook calculates monthly authorized users based on history of `/v1` and `/v2` messages retrieved through the `/logs` API. The count is for all workspaces and/or skills for one service instance of Assistant. There are two options for use:\n",
    "  - Process a list of files in a directory (JSON output from calls to `/logs` API in a directory. For this set `LOGS_DIR_PATH` in the next cell to point to the directory. If this value is set, the notebook will not attempt to access the service instance by API.\n",
    "  - Access a service instance directly to extract the logs using the `/logs` API and then process. For this you need the `API key` and `Assistant URL` values from the settings of one of the Assistants or Skills. We're only using the URL up to the instance ID, so asny of the URLs and API keys listed on your assistant settings will work. Set them in the next cell below, or set these values to `''` and be prompted when the notebook runs. \n",
    "\n",
    "You can also get flattened log output in CSV format by specifying `EXPORT_FILE_PATH` in the cell below. If you do not want this output, set the value to `''` or `None`.\n",
    "\n",
    "Code for this lives at https://github.com/kineticsquid/Utilities.git."
   ]
  },
  {
   "cell_type": "code",
   "execution_count": null,
   "metadata": {},
   "outputs": [],
   "source": [
    "LOGS_DIR_PATH = '/Users/jk/Temp/Oficinas-Logs/Oficinas3'\n",
    "api_key = ''\n",
    "assistant_url = 'https://api.us-east.assistant.watson.cloud.ibm.com/instances/96a44bf2-df75-4683-852d-1187573b8948'\n",
    "EXPORT_FILE_PATH = 'output.csv'"
   ]
  },
  {
   "cell_type": "code",
   "execution_count": null,
   "metadata": {},
   "outputs": [],
   "source": [
    "%pwd"
   ]
  },
  {
   "cell_type": "code",
   "execution_count": null,
   "metadata": {},
   "outputs": [],
   "source": [
    "import string\n",
    "import re\n",
    "import os\n",
    "import requests\n",
    "import datetime\n",
    "import json\n",
    "import numpy as np\n",
    "import matplotlib.pyplot as plt\n",
    "import pandas as pd"
   ]
  },
  {
   "cell_type": "code",
   "execution_count": null,
   "metadata": {},
   "outputs": [],
   "source": [
    "%cd ..\n",
    "import get_logs"
   ]
  },
  {
   "cell_type": "code",
   "execution_count": null,
   "metadata": {},
   "outputs": [],
   "source": [
    "if LOGS_DIR_PATH is not None and len(LOGS_DIR_PATH) > 0:\n",
    "    files = os.listdir(LOGS_DIR_PATH)\n",
    "    all_logs = []\n",
    "    for file_name in files:\n",
    "        abs_path = os.path.join(LOGS_DIR_PATH, file_name)\n",
    "        if os.path.isfile(abs_path) and file_name[0] != '.':\n",
    "            file = open(abs_path, 'r')\n",
    "            logs = json.load(file)\n",
    "            all_logs += logs\n",
    "            file.close()\n",
    "            print('Added %s log entries from file \\'%s\\'.' % (len(logs), file_name))\n",
    "else:\n",
    "    if api_key is None or len(api_key) == 0:\n",
    "        api_key = input(\"Enter Assistant API key\")\n",
    "    if assistant_url is None or len(assistant_url) == 0:\n",
    "        assistant_url = input(\"Enter assistant or skill /v1 or /v2 API URL\")\n",
    "    api_regex = r'https:\\/\\/api..*.com\\/instances\\/([a-zA-Z0-9]|-)+'\n",
    "    api_url = re.search(api_regex, assistant_url).group()\n",
    "\n",
    "    os.environ['APIKEY'] = api_key\n",
    "    os.environ['API_URL'] = api_url\n",
    "    all_logs = get_logs.get_all_logs()\n",
    "print('\\n%s log entries to process.' % len(all_logs))"
   ]
  },
  {
   "cell_type": "code",
   "execution_count": null,
   "metadata": {
    "require": [
     "base/js/events",
     "datatables.net",
     "d3",
     "chartjs",
     "dt-config",
     "dt-components",
     "dt-graph-objects",
     "dt-toolbar",
     "dt-tooltips",
     "jupyter-datatables"
    ]
   },
   "outputs": [],
   "source": [
    "user_detail, authorized_user_counts_by_month, unique_authorized_users_by_month = get_logs.calculate_authorized_users(all_logs)"
   ]
  },
  {
   "cell_type": "code",
   "execution_count": null,
   "metadata": {},
   "outputs": [],
   "source": [
    "user_count_df = pd.DataFrame(authorized_user_counts_by_month)\n",
    "user_count_df.plot.bar(stacked=True, figsize=(10, 8), title='Authorized Users by Month', fontsize=15) \n",
    "plt.show()\n",
    "\n",
    "user_count_df.loc[\"Total\"] = user_count_df.sum(axis=0)\n",
    "user_count_df.loc[:, \"Total\"] = user_count_df.sum(axis=1)\n",
    "user_count_df = user_count_df.style.set_properties(**{'font-size': '12pt',})\n",
    "user_count_df"
   ]
  },
  {
   "cell_type": "code",
   "execution_count": null,
   "metadata": {},
   "outputs": [],
   "source": [
    "detail_df = pd.DataFrame(user_detail)\n",
    "if EXPORT_FILE_PATH is not None and len(EXPORT_FILE_PATH) > 0:\n",
    "    detail_df.to_csv(EXPORT_FILE_PATH)"
   ]
  },
  {
   "cell_type": "code",
   "execution_count": null,
   "metadata": {},
   "outputs": [],
   "source": [
    "detail_df"
   ]
  }
 ],
 "metadata": {
  "kernelspec": {
   "display_name": "Python 3",
   "language": "python",
   "name": "python3"
  },
  "language_info": {
   "codemirror_mode": {
    "name": "ipython",
    "version": 3
   },
   "file_extension": ".py",
   "mimetype": "text/x-python",
   "name": "python",
   "nbconvert_exporter": "python",
   "pygments_lexer": "ipython3",
   "version": "3.8.3"
  },
  "require": {
   "paths": {
    "buttons.colvis": "https://cdn.datatables.net/buttons/1.5.6/js/buttons.colVis.min",
    "buttons.flash": "https://cdn.datatables.net/buttons/1.5.6/js/buttons.flash.min",
    "buttons.html5": "https://cdn.datatables.net/buttons/1.5.6/js/buttons.html5.min",
    "buttons.print": "https://cdn.datatables.net/buttons/1.5.6/js/buttons.print.min",
    "chartjs": "https://cdnjs.cloudflare.com/ajax/libs/Chart.js/2.8.0/Chart",
    "d3": "https://d3js.org/d3.v5.min",
    "d3-array": "https://d3js.org/d3-array.v2.min",
    "datatables.net": "https://cdn.datatables.net/1.10.18/js/jquery.dataTables",
    "datatables.net-buttons": "https://cdn.datatables.net/buttons/1.5.6/js/dataTables.buttons.min",
    "datatables.responsive": "https://cdn.datatables.net/responsive/2.2.2/js/dataTables.responsive.min",
    "datatables.scroller": "https://cdn.datatables.net/scroller/2.0.0/js/dataTables.scroller.min",
    "datatables.select": "https://cdn.datatables.net/select/1.3.0/js/dataTables.select.min",
    "jszip": "https://cdnjs.cloudflare.com/ajax/libs/jszip/2.5.0/jszip.min",
    "moment": "https://cdnjs.cloudflare.com/ajax/libs/moment.js/2.8.0/moment",
    "pdfmake": "https://cdnjs.cloudflare.com/ajax/libs/pdfmake/0.1.36/pdfmake.min",
    "vfsfonts": "https://cdnjs.cloudflare.com/ajax/libs/pdfmake/0.1.36/vfs_fonts"
   },
   "shim": {
    "buttons.colvis": {
     "deps": [
      "jszip",
      "datatables.net-buttons"
     ]
    },
    "buttons.flash": {
     "deps": [
      "jszip",
      "datatables.net-buttons"
     ]
    },
    "buttons.html5": {
     "deps": [
      "jszip",
      "datatables.net-buttons"
     ]
    },
    "buttons.print": {
     "deps": [
      "jszip",
      "datatables.net-buttons"
     ]
    },
    "chartjs": {
     "deps": [
      "moment"
     ]
    },
    "datatables.net": {
     "exports": "$.fn.dataTable"
    },
    "datatables.net-buttons": {
     "deps": [
      "datatables.net"
     ]
    },
    "pdfmake": {
     "deps": [
      "datatables.net"
     ]
    },
    "vfsfonts": {
     "deps": [
      "datatables.net"
     ]
    }
   }
  }
 },
 "nbformat": 4,
 "nbformat_minor": 4
}
