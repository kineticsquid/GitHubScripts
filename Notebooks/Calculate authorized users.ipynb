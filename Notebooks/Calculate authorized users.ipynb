{
 "cells": [
  {
   "cell_type": "markdown",
   "metadata": {},
   "source": [
    "## Notebook to calculate monthly authorized users - Copy"
   ]
  },
  {
   "cell_type": "markdown",
   "metadata": {},
   "source": [
    "This notebook calculates monthly authorized users based on history of `/v1` and `/v2` messages retrieved through the `/logs` API. The count is for all workspaces and/or skills for one service instance of Assistant. There are two options for use:\n",
    "  - Process a list of files in a directory (JSON output from calls to `/logs` API in a directory. For this set `LOGS_DIR_PATH` in the next cell to point to the directory. If this value is set, the notebook will not attempt to access the service instance by API.\n",
    "  - Access a service instance directly to extract the logs using the `/logs` API and then process. For this you need the `API key` and `Assistant URL` values from the settings of one of the Assistants or Skills. We're only using the URL up to the instance ID, so asny of the URLs and API keys listed on your assistant settings will work. Set them in the next cell below, or set these values to `''` and be prompted when the notebook runs. \n",
    "\n",
    "You can also get flattened log output in CSV format by specifying `EXPORT_FILE_PATH` in the cell below. If you do not want this output, set the value to `''` or `None`.\n",
    "\n",
    "Code for this lives at https://github.com/kineticsquid/Utilities.git."
   ]
  },
  {
   "cell_type": "code",
   "execution_count": 7,
   "metadata": {},
   "outputs": [],
   "source": [
    "LOGS_DIR_PATH = '/Users/jk/Temp/Oficinas-Logs/Oficinas3'\n",
    "api_key = ''\n",
    "assistant_url = 'https://api.us-east.assistant.watson.cloud.ibm.com/instances/96a44bf2-df75-4683-852d-1187573b8948'\n",
    "EXPORT_FILE_PATH = 'output.csv'"
   ]
  },
  {
   "cell_type": "code",
   "execution_count": 8,
   "metadata": {},
   "outputs": [
    {
     "data": {
      "text/plain": [
       "'/Users/jk/DevelopmentEnvironment'"
      ]
     },
     "execution_count": 8,
     "metadata": {},
     "output_type": "execute_result"
    }
   ],
   "source": [
    "%pwd"
   ]
  },
  {
   "cell_type": "code",
   "execution_count": 9,
   "metadata": {},
   "outputs": [],
   "source": [
    "import string\n",
    "import re\n",
    "import os\n",
    "import requests\n",
    "import datetime\n",
    "import json\n",
    "import numpy as np\n",
    "import matplotlib.pyplot as plt\n",
    "import pandas as pd"
   ]
  },
  {
   "cell_type": "code",
   "execution_count": 10,
   "metadata": {},
   "outputs": [
    {
     "name": "stdout",
     "output_type": "stream",
     "text": [
      "/Users/jk\n"
     ]
    }
   ],
   "source": [
    "%cd ..\n",
    "import get_logs"
   ]
  },
  {
   "cell_type": "code",
   "execution_count": 11,
   "metadata": {},
   "outputs": [
    {
     "name": "stdout",
     "output_type": "stream",
     "text": [
      "Added 2440 log entries from file 'es_DomiciliacionesTransferenciasPagosP1'.\n",
      "Added 0 log entries from file 'es_Global_P3'.\n",
      "Added 0 log entries from file 'es_Global_P2'.\n",
      "Added 4514 log entries from file 'es_ComerciosP3'.\n",
      "Added 0 log entries from file 'es_ClicToCall_P1'.\n",
      "Added 0 log entries from file 'es_NeocsiChitChat_P1'.\n",
      "Added 0 log entries from file 'es_ServiciosJuridicosP2'.\n",
      "Added 11496 log entries from file 'es_TarjetasP1'.\n",
      "Added 4167 log entries from file 'es_ServiciosJuridicosP3'.\n",
      "Added 1883 log entries from file 'es_MinisterioDeHaciendaP1'.\n",
      "Added 3316 log entries from file 'es_ComerciosP2'.\n",
      "Added 0 log entries from file 'es_Neocsi_P1'.\n",
      "Added 7537 log entries from file 'es_RecaudacionYOtrasOperacionesP2'.\n",
      "Added 5989 log entries from file 'es_ItP1'.\n",
      "Added 4133 log entries from file 'es_ChequesYOidP1'.\n",
      "Added 639 log entries from file 'es_RecaudacionYOtrasOperacionesP3'.\n",
      "Added 0 log entries from file 'es_DispensadoresYRecicladoresP1'.\n",
      "Added 2173 log entries from file 'es_TelefoniaP1'.\n",
      "Added 3123 log entries from file 'es_TarjetasDePrepagoP1'.\n",
      "Added 10506 log entries from file 'es_DomiciliacionesTransferenciasPagosP2'.\n",
      "Added 0 log entries from file 'es_Global_P1'.\n",
      "Added 1767 log entries from file 'es_DomiciliacionesTransferenciasPagosP3'.\n",
      "Added 0 log entries from file 'es_NeocsiChitChat_P2'.\n",
      "Added 1143 log entries from file 'es_ClicToCall_P2'.\n",
      "Added 0 log entries from file 'es_ServiciosJuridicosP1'.\n",
      "Added 849 log entries from file 'es_MinisterioDeHaciendaP3'.\n",
      "Added 3939 log entries from file 'es_TarjetasP2'.\n",
      "Added 21502 log entries from file 'es_TarjetasP3'.\n",
      "Added 2091 log entries from file 'es_MinisterioDeHaciendaP2'.\n",
      "Added 3203 log entries from file 'es_ComerciosP1'.\n",
      "Added 1186 log entries from file 'es_ClicToCall_P3'.\n",
      "Added 0 log entries from file 'es_NeocsiChitChat_P3'.\n",
      "Added 0 log entries from file 'es_Neocsi_P3'.\n",
      "Added 0 log entries from file 'es_Neocsi_P2'.\n",
      "Added 1458 log entries from file 'es_TarjetasDePrepagoP3'.\n",
      "Added 1336 log entries from file 'es_TelefoniaP3'.\n",
      "Added 1202 log entries from file 'es_DispensadoresYRecicladoresP3'.\n",
      "Added 1625 log entries from file 'es_ItP2'.\n",
      "Added 3182 log entries from file 'es_ChequesYOidP3'.\n",
      "Added 1534 log entries from file 'es_RecaudacionYOtrasOperacionesP1'.\n",
      "Added 4274 log entries from file 'es_TelefoniaP2'.\n",
      "Added 2107 log entries from file 'es_TarjetasDePrepagoP2'.\n",
      "Added 1492 log entries from file 'es_ChequesYOidP2'.\n",
      "Added 4381 log entries from file 'es_ItP3'.\n",
      "Added 0 log entries from file 'es_DispensadoresYRecicladoresP2'.\n",
      "\n",
      "120187 log entries to process.\n"
     ]
    }
   ],
   "source": [
    "if LOGS_DIR_PATH is not None and len(LOGS_DIR_PATH) > 0:\n",
    "    files = os.listdir(LOGS_DIR_PATH)\n",
    "    all_logs = []\n",
    "    for file_name in files:\n",
    "        abs_path = os.path.join(LOGS_DIR_PATH, file_name)\n",
    "        if os.path.isfile(abs_path) and file_name[0] != '.':\n",
    "            file = open(abs_path, 'r')\n",
    "            logs = json.load(file)\n",
    "            all_logs += logs\n",
    "            file.close()\n",
    "            print('Added %s log entries from file \\'%s\\'.' % (len(logs), file_name))\n",
    "else:\n",
    "    if api_key is None or len(api_key) == 0:\n",
    "        api_key = input(\"Enter Assistant API key\")\n",
    "    if assistant_url is None or len(assistant_url) == 0:\n",
    "        assistant_url = input(\"Enter assistant or skill /v1 or /v2 API URL\")\n",
    "    api_regex = r'https:\\/\\/api..*.com\\/instances\\/([a-zA-Z0-9]|-)+'\n",
    "    api_url = re.search(api_regex, assistant_url).group()\n",
    "\n",
    "    os.environ['APIKEY'] = api_key\n",
    "    os.environ['API_URL'] = api_url\n",
    "    all_logs = get_logs.get_all_logs()\n",
    "print('\\n%s log entries to process.' % len(all_logs))"
   ]
  },
  {
   "cell_type": "code",
   "execution_count": 12,
   "metadata": {
    "require": [
     "base/js/events",
     "datatables.net",
     "d3",
     "chartjs",
     "dt-config",
     "dt-components",
     "dt-graph-objects",
     "dt-toolbar",
     "dt-tooltips",
     "jupyter-datatables"
    ]
   },
   "outputs": [],
   "source": [
    "user_detail, authorized_user_counts_by_month, unique_authorized_users_by_month = get_logs.calculate_authorized_users(all_logs)"
   ]
  },
  {
   "cell_type": "code",
   "execution_count": 13,
   "metadata": {},
   "outputs": [
    {
     "data": {
      "image/png": "[encoded data removed]",
      "text/plain": [
       "<Figure size 720x576 with 1 Axes>"
      ]
     },
     "metadata": {
      "needs_background": "light"
     },
     "output_type": "display_data"
    },
    {
     "data": {
      "text/html": [
       "<style  type=\"text/css\" >\n",
       "#T_86864_row0_col0,#T_86864_row0_col1,#T_86864_row0_col2,#T_86864_row0_col3,#T_86864_row1_col0,#T_86864_row1_col1,#T_86864_row1_col2,#T_86864_row1_col3{\n",
       "            font-size:  12pt;\n",
       "        }</style><table id=\"T_86864_\" ><thead>    <tr>        <th class=\"blank level0\" ></th>        <th class=\"col_heading level0 col0\" >user_id</th>        <th class=\"col_heading level0 col1\" >session_id</th>        <th class=\"col_heading level0 col2\" >conversation_id</th>        <th class=\"col_heading level0 col3\" >Total</th>    </tr></thead><tbody>\n",
       "                <tr>\n",
       "                        <th id=\"T_86864_level0_row0\" class=\"row_heading level0 row0\" >Dec</th>\n",
       "                        <td id=\"T_86864_row0_col0\" class=\"data row0 col0\" >18804</td>\n",
       "                        <td id=\"T_86864_row0_col1\" class=\"data row0 col1\" >0</td>\n",
       "                        <td id=\"T_86864_row0_col2\" class=\"data row0 col2\" >8</td>\n",
       "                        <td id=\"T_86864_row0_col3\" class=\"data row0 col3\" >18812</td>\n",
       "            </tr>\n",
       "            <tr>\n",
       "                        <th id=\"T_86864_level0_row1\" class=\"row_heading level0 row1\" >Total</th>\n",
       "                        <td id=\"T_86864_row1_col0\" class=\"data row1 col0\" >18804</td>\n",
       "                        <td id=\"T_86864_row1_col1\" class=\"data row1 col1\" >0</td>\n",
       "                        <td id=\"T_86864_row1_col2\" class=\"data row1 col2\" >8</td>\n",
       "                        <td id=\"T_86864_row1_col3\" class=\"data row1 col3\" >18812</td>\n",
       "            </tr>\n",
       "    </tbody></table>"
      ],
      "text/plain": [
       "<pandas.io.formats.style.Styler at 0x7fc938cd52e0>"
      ]
     },
     "execution_count": 13,
     "metadata": {},
     "output_type": "execute_result"
    }
   ],
   "source": [
    "user_count_df = pd.DataFrame(authorized_user_counts_by_month)\n",
    "user_count_df.plot.bar(stacked=True, figsize=(10, 8), title='Authorized Users by Month', fontsize=15) \n",
    "plt.show()\n",
    "\n",
    "user_count_df.loc[\"Total\"] = user_count_df.sum(axis=0)\n",
    "user_count_df.loc[:, \"Total\"] = user_count_df.sum(axis=1)\n",
    "user_count_df = user_count_df.style.set_properties(**{'font-size': '12pt',})\n",
    "user_count_df"
   ]
  },
  {
   "cell_type": "code",
   "execution_count": 14,
   "metadata": {},
   "outputs": [],
   "source": [
    "detail_df = pd.DataFrame(user_detail)\n",
    "if EXPORT_FILE_PATH is not None and len(EXPORT_FILE_PATH) > 0:\n",
    "    detail_df.to_csv(EXPORT_FILE_PATH)"
   ]
  },
  {
   "cell_type": "code",
   "execution_count": 15,
   "metadata": {},
   "outputs": [
    {
     "data": {
      "text/html": [
       "<div>\n",
       "<style scoped>\n",
       "    .dataframe tbody tr th:only-of-type {\n",
       "        vertical-align: middle;\n",
       "    }\n",
       "\n",
       "    .dataframe tbody tr th {\n",
       "        vertical-align: top;\n",
       "    }\n",
       "\n",
       "    .dataframe thead th {\n",
       "        text-align: right;\n",
       "    }\n",
       "</style>\n",
       "<table border=\"1\" class=\"dataframe\">\n",
       "  <thead>\n",
       "    <tr style=\"text-align: right;\">\n",
       "      <th></th>\n",
       "      <th>request_month</th>\n",
       "      <th>request_date</th>\n",
       "      <th>request_time</th>\n",
       "      <th>authorized_user</th>\n",
       "      <th>type</th>\n",
       "      <th>dialog_turn</th>\n",
       "      <th>text_length</th>\n",
       "      <th>workspace_id</th>\n",
       "      <th>billable</th>\n",
       "    </tr>\n",
       "  </thead>\n",
       "  <tbody>\n",
       "    <tr>\n",
       "      <th>0</th>\n",
       "      <td>Dec</td>\n",
       "      <td>2020-12-01</td>\n",
       "      <td>05:26:08</td>\n",
       "      <td>U0160897</td>\n",
       "      <td>user_id</td>\n",
       "      <td>1</td>\n",
       "      <td>21</td>\n",
       "      <td>1a675b10-438f-4fa7-be32-8d76187dfed5</td>\n",
       "      <td>True</td>\n",
       "    </tr>\n",
       "    <tr>\n",
       "      <th>1</th>\n",
       "      <td>Dec</td>\n",
       "      <td>2020-12-01</td>\n",
       "      <td>05:30:15</td>\n",
       "      <td>U0137479</td>\n",
       "      <td>user_id</td>\n",
       "      <td>1</td>\n",
       "      <td>63</td>\n",
       "      <td>03e230f2-06ca-4c30-8a30-496dbceb5337</td>\n",
       "      <td>True</td>\n",
       "    </tr>\n",
       "    <tr>\n",
       "      <th>2</th>\n",
       "      <td>Dec</td>\n",
       "      <td>2020-12-01</td>\n",
       "      <td>05:50:49</td>\n",
       "      <td>U0141275</td>\n",
       "      <td>user_id</td>\n",
       "      <td>1</td>\n",
       "      <td>33</td>\n",
       "      <td>84e62e56-7c01-409b-a36d-85b194c8279e</td>\n",
       "      <td>True</td>\n",
       "    </tr>\n",
       "    <tr>\n",
       "      <th>3</th>\n",
       "      <td>Dec</td>\n",
       "      <td>2020-12-01</td>\n",
       "      <td>05:56:19</td>\n",
       "      <td>U0115773</td>\n",
       "      <td>user_id</td>\n",
       "      <td>1</td>\n",
       "      <td>43</td>\n",
       "      <td>b7682c29-5dbf-4e8b-8f4b-0ac9ebc0d0e0</td>\n",
       "      <td>True</td>\n",
       "    </tr>\n",
       "    <tr>\n",
       "      <th>4</th>\n",
       "      <td>Dec</td>\n",
       "      <td>2020-12-01</td>\n",
       "      <td>05:56:51</td>\n",
       "      <td>U0141275</td>\n",
       "      <td>user_id</td>\n",
       "      <td>2</td>\n",
       "      <td>58</td>\n",
       "      <td>84e62e56-7c01-409b-a36d-85b194c8279e</td>\n",
       "      <td>True</td>\n",
       "    </tr>\n",
       "    <tr>\n",
       "      <th>...</th>\n",
       "      <td>...</td>\n",
       "      <td>...</td>\n",
       "      <td>...</td>\n",
       "      <td>...</td>\n",
       "      <td>...</td>\n",
       "      <td>...</td>\n",
       "      <td>...</td>\n",
       "      <td>...</td>\n",
       "      <td>...</td>\n",
       "    </tr>\n",
       "    <tr>\n",
       "      <th>120182</th>\n",
       "      <td>Dec</td>\n",
       "      <td>2020-12-31</td>\n",
       "      <td>18:10:32</td>\n",
       "      <td>U0129281</td>\n",
       "      <td>user_id</td>\n",
       "      <td>1</td>\n",
       "      <td>44</td>\n",
       "      <td>b9780ef6-2119-4933-b52e-08dbbcc3bc15</td>\n",
       "      <td>True</td>\n",
       "    </tr>\n",
       "    <tr>\n",
       "      <th>120183</th>\n",
       "      <td>Dec</td>\n",
       "      <td>2020-12-31</td>\n",
       "      <td>18:22:32</td>\n",
       "      <td>U0129281</td>\n",
       "      <td>user_id</td>\n",
       "      <td>1</td>\n",
       "      <td>55</td>\n",
       "      <td>b9780ef6-2119-4933-b52e-08dbbcc3bc15</td>\n",
       "      <td>True</td>\n",
       "    </tr>\n",
       "    <tr>\n",
       "      <th>120184</th>\n",
       "      <td>Dec</td>\n",
       "      <td>2020-12-31</td>\n",
       "      <td>18:30:10</td>\n",
       "      <td>U0157736</td>\n",
       "      <td>user_id</td>\n",
       "      <td>1</td>\n",
       "      <td>37</td>\n",
       "      <td>a6bca1e1-81bc-4678-889c-fe26cbf8a348</td>\n",
       "      <td>True</td>\n",
       "    </tr>\n",
       "    <tr>\n",
       "      <th>120185</th>\n",
       "      <td>Dec</td>\n",
       "      <td>2020-12-31</td>\n",
       "      <td>18:31:06</td>\n",
       "      <td>U0153822</td>\n",
       "      <td>user_id</td>\n",
       "      <td>1</td>\n",
       "      <td>39</td>\n",
       "      <td>a6bca1e1-81bc-4678-889c-fe26cbf8a348</td>\n",
       "      <td>True</td>\n",
       "    </tr>\n",
       "    <tr>\n",
       "      <th>120186</th>\n",
       "      <td>Dec</td>\n",
       "      <td>2020-12-31</td>\n",
       "      <td>20:11:44</td>\n",
       "      <td>U0162125</td>\n",
       "      <td>user_id</td>\n",
       "      <td>1</td>\n",
       "      <td>45</td>\n",
       "      <td>62f4e109-38b2-417b-9aff-e6fd6076ac10</td>\n",
       "      <td>True</td>\n",
       "    </tr>\n",
       "  </tbody>\n",
       "</table>\n",
       "<p>120187 rows × 9 columns</p>\n",
       "</div>"
      ],
      "text/plain": [
       "       request_month request_date request_time authorized_user     type  \\\n",
       "0                Dec   2020-12-01     05:26:08        U0160897  user_id   \n",
       "1                Dec   2020-12-01     05:30:15        U0137479  user_id   \n",
       "2                Dec   2020-12-01     05:50:49        U0141275  user_id   \n",
       "3                Dec   2020-12-01     05:56:19        U0115773  user_id   \n",
       "4                Dec   2020-12-01     05:56:51        U0141275  user_id   \n",
       "...              ...          ...          ...             ...      ...   \n",
       "120182           Dec   2020-12-31     18:10:32        U0129281  user_id   \n",
       "120183           Dec   2020-12-31     18:22:32        U0129281  user_id   \n",
       "120184           Dec   2020-12-31     18:30:10        U0157736  user_id   \n",
       "120185           Dec   2020-12-31     18:31:06        U0153822  user_id   \n",
       "120186           Dec   2020-12-31     20:11:44        U0162125  user_id   \n",
       "\n",
       "        dialog_turn  text_length                          workspace_id  \\\n",
       "0                 1           21  1a675b10-438f-4fa7-be32-8d76187dfed5   \n",
       "1                 1           63  03e230f2-06ca-4c30-8a30-496dbceb5337   \n",
       "2                 1           33  84e62e56-7c01-409b-a36d-85b194c8279e   \n",
       "3                 1           43  b7682c29-5dbf-4e8b-8f4b-0ac9ebc0d0e0   \n",
       "4                 2           58  84e62e56-7c01-409b-a36d-85b194c8279e   \n",
       "...             ...          ...                                   ...   \n",
       "120182            1           44  b9780ef6-2119-4933-b52e-08dbbcc3bc15   \n",
       "120183            1           55  b9780ef6-2119-4933-b52e-08dbbcc3bc15   \n",
       "120184            1           37  a6bca1e1-81bc-4678-889c-fe26cbf8a348   \n",
       "120185            1           39  a6bca1e1-81bc-4678-889c-fe26cbf8a348   \n",
       "120186            1           45  62f4e109-38b2-417b-9aff-e6fd6076ac10   \n",
       "\n",
       "       billable  \n",
       "0          True  \n",
       "1          True  \n",
       "2          True  \n",
       "3          True  \n",
       "4          True  \n",
       "...         ...  \n",
       "120182     True  \n",
       "120183     True  \n",
       "120184     True  \n",
       "120185     True  \n",
       "120186     True  \n",
       "\n",
       "[120187 rows x 9 columns]"
      ]
     },
     "execution_count": 15,
     "metadata": {},
     "output_type": "execute_result"
    }
   ],
   "source": [
    "detail_df"
   ]
  }
 ],
 "metadata": {
  "kernelspec": {
   "display_name": "Python 3",
   "language": "python",
   "name": "python3"
  },
  "language_info": {
   "codemirror_mode": {
    "name": "ipython",
    "version": 3
   },
   "file_extension": ".py",
   "mimetype": "text/x-python",
   "name": "python",
   "nbconvert_exporter": "python",
   "pygments_lexer": "ipython3",
   "version": "3.8.3"
  },
  "require": {
   "paths": {
    "buttons.colvis": "https://cdn.datatables.net/buttons/1.5.6/js/buttons.colVis.min",
    "buttons.flash": "https://cdn.datatables.net/buttons/1.5.6/js/buttons.flash.min",
    "buttons.html5": "https://cdn.datatables.net/buttons/1.5.6/js/buttons.html5.min",
    "buttons.print": "https://cdn.datatables.net/buttons/1.5.6/js/buttons.print.min",
    "chartjs": "https://cdnjs.cloudflare.com/ajax/libs/Chart.js/2.8.0/Chart",
    "d3": "https://d3js.org/d3.v5.min",
    "d3-array": "https://d3js.org/d3-array.v2.min",
    "datatables.net": "https://cdn.datatables.net/1.10.18/js/jquery.dataTables",
    "datatables.net-buttons": "https://cdn.datatables.net/buttons/1.5.6/js/dataTables.buttons.min",
    "datatables.responsive": "https://cdn.datatables.net/responsive/2.2.2/js/dataTables.responsive.min",
    "datatables.scroller": "https://cdn.datatables.net/scroller/2.0.0/js/dataTables.scroller.min",
    "datatables.select": "https://cdn.datatables.net/select/1.3.0/js/dataTables.select.min",
    "jszip": "https://cdnjs.cloudflare.com/ajax/libs/jszip/2.5.0/jszip.min",
    "moment": "https://cdnjs.cloudflare.com/ajax/libs/moment.js/2.8.0/moment",
    "pdfmake": "https://cdnjs.cloudflare.com/ajax/libs/pdfmake/0.1.36/pdfmake.min",
    "vfsfonts": "https://cdnjs.cloudflare.com/ajax/libs/pdfmake/0.1.36/vfs_fonts"
   },
   "shim": {
    "buttons.colvis": {
     "deps": [
      "jszip",
      "datatables.net-buttons"
     ]
    },
    "buttons.flash": {
     "deps": [
      "jszip",
      "datatables.net-buttons"
     ]
    },
    "buttons.html5": {
     "deps": [
      "jszip",
      "datatables.net-buttons"
     ]
    },
    "buttons.print": {
     "deps": [
      "jszip",
      "datatables.net-buttons"
     ]
    },
    "chartjs": {
     "deps": [
      "moment"
     ]
    },
    "datatables.net": {
     "exports": "$.fn.dataTable"
    },
    "datatables.net-buttons": {
     "deps": [
      "datatables.net"
     ]
    },
    "pdfmake": {
     "deps": [
      "datatables.net"
     ]
    },
    "vfsfonts": {
     "deps": [
      "datatables.net"
     ]
    }
   }
  }
 },
 "nbformat": 4,
 "nbformat_minor": 4
}
